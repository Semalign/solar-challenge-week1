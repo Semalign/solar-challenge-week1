{
 "cells": [
  {
   "cell_type": "code",
   "execution_count": 17,
   "id": "86984107",
   "metadata": {},
   "outputs": [],
   "source": [
    "\n",
    "import pandas as pd\n",
    "import seaborn as sns\n",
    "import matplotlib.pyplot as plt\n"
   ]
  },
  {
   "cell_type": "code",
   "execution_count": 4,
   "id": "f72e30b7",
   "metadata": {},
   "outputs": [],
   "source": [
    "benin = pd.read_csv('data/benin_melanville_clean.csv')\n",
    "sierra = pd.read_csv('data/sierra_leone_bumbuna_clean.csv')\n",
    "togo = pd.read_csv('data/togo_dapaong_clean.csv')"
   ]
  },
  {
   "cell_type": "code",
   "execution_count": 26,
   "id": "089566c7",
   "metadata": {},
   "outputs": [],
   "source": [
    "benin['country'] = 'Benin'\n",
    "sierra['country'] = 'Sierra Leone'\n",
    "togo['country'] = 'Togo'\n",
    "df = pd.concat([benin, sierra, togo])\n"
   ]
  },
  {
   "cell_type": "code",
   "execution_count": 10,
   "id": "fe661e6f",
   "metadata": {},
   "outputs": [
    {
     "data": {
      "text/plain": [
       "<Axes: xlabel='country', ylabel='GHI'>"
      ]
     },
     "execution_count": 10,
     "metadata": {},
     "output_type": "execute_result"
    },
    {
     "data": {
      "image/png": "[encoded data removed]",
      "text/plain": [
       "<Figure size 640x480 with 1 Axes>"
      ]
     },
     "metadata": {},
     "output_type": "display_data"
    }
   ],
   "source": [
    "sns.boxplot(data=df, x='country', y='GHI')\n"
   ]
  },
  {
   "cell_type": "code",
   "execution_count": 13,
   "id": "f27e327f",
   "metadata": {},
   "outputs": [
    {
     "data": {
      "text/html": [
       "<div>\n",
       "<style scoped>\n",
       "    .dataframe tbody tr th:only-of-type {\n",
       "        vertical-align: middle;\n",
       "    }\n",
       "\n",
       "    .dataframe tbody tr th {\n",
       "        vertical-align: top;\n",
       "    }\n",
       "\n",
       "    .dataframe thead tr th {\n",
       "        text-align: left;\n",
       "    }\n",
       "\n",
       "    .dataframe thead tr:last-of-type th {\n",
       "        text-align: right;\n",
       "    }\n",
       "</style>\n",
       "<table border=\"1\" class=\"dataframe\">\n",
       "  <thead>\n",
       "    <tr>\n",
       "      <th></th>\n",
       "      <th colspan=\"3\" halign=\"left\">GHI</th>\n",
       "      <th colspan=\"3\" halign=\"left\">DNI</th>\n",
       "      <th colspan=\"3\" halign=\"left\">DHI</th>\n",
       "    </tr>\n",
       "    <tr>\n",
       "      <th></th>\n",
       "      <th>mean</th>\n",
       "      <th>median</th>\n",
       "      <th>std</th>\n",
       "      <th>mean</th>\n",
       "      <th>median</th>\n",
       "      <th>std</th>\n",
       "      <th>mean</th>\n",
       "      <th>median</th>\n",
       "      <th>std</th>\n",
       "    </tr>\n",
       "    <tr>\n",
       "      <th>country</th>\n",
       "      <th></th>\n",
       "      <th></th>\n",
       "      <th></th>\n",
       "      <th></th>\n",
       "      <th></th>\n",
       "      <th></th>\n",
       "      <th></th>\n",
       "      <th></th>\n",
       "      <th></th>\n",
       "    </tr>\n",
       "  </thead>\n",
       "  <tbody>\n",
       "    <tr>\n",
       "      <th>Benin</th>\n",
       "      <td>240.559452</td>\n",
       "      <td>1.8</td>\n",
       "      <td>331.131327</td>\n",
       "      <td>167.187516</td>\n",
       "      <td>-0.1</td>\n",
       "      <td>261.710501</td>\n",
       "      <td>115.358961</td>\n",
       "      <td>1.6</td>\n",
       "      <td>158.691074</td>\n",
       "    </tr>\n",
       "    <tr>\n",
       "      <th>Sierra Leone</th>\n",
       "      <td>201.957515</td>\n",
       "      <td>0.3</td>\n",
       "      <td>298.495150</td>\n",
       "      <td>116.376337</td>\n",
       "      <td>-0.1</td>\n",
       "      <td>218.652659</td>\n",
       "      <td>113.720571</td>\n",
       "      <td>-0.1</td>\n",
       "      <td>158.946032</td>\n",
       "    </tr>\n",
       "    <tr>\n",
       "      <th>Togo</th>\n",
       "      <td>230.555040</td>\n",
       "      <td>2.1</td>\n",
       "      <td>322.532347</td>\n",
       "      <td>151.258469</td>\n",
       "      <td>0.0</td>\n",
       "      <td>250.956962</td>\n",
       "      <td>116.444352</td>\n",
       "      <td>2.5</td>\n",
       "      <td>156.520714</td>\n",
       "    </tr>\n",
       "  </tbody>\n",
       "</table>\n",
       "</div>"
      ],
      "text/plain": [
       "                     GHI                            DNI                     \\\n",
       "                    mean median         std        mean median         std   \n",
       "country                                                                      \n",
       "Benin         240.559452    1.8  331.131327  167.187516   -0.1  261.710501   \n",
       "Sierra Leone  201.957515    0.3  298.495150  116.376337   -0.1  218.652659   \n",
       "Togo          230.555040    2.1  322.532347  151.258469    0.0  250.956962   \n",
       "\n",
       "                     DHI                     \n",
       "                    mean median         std  \n",
       "country                                      \n",
       "Benin         115.358961    1.6  158.691074  \n",
       "Sierra Leone  113.720571   -0.1  158.946032  \n",
       "Togo          116.444352    2.5  156.520714  "
      ]
     },
     "execution_count": 13,
     "metadata": {},
     "output_type": "execute_result"
    }
   ],
   "source": [
    "df.groupby('country')[['GHI', 'DNI', 'DHI']].agg(['mean', 'median', 'std'])\n",
    "\n"
   ]
  },
  {
   "cell_type": "code",
   "execution_count": 14,
   "id": "9978e2e8",
   "metadata": {},
   "outputs": [
    {
     "data": {
      "text/plain": [
       "F_onewayResult(statistic=np.float64(2090.092870479632), pvalue=np.float64(0.0))"
      ]
     },
     "execution_count": 14,
     "metadata": {},
     "output_type": "execute_result"
    }
   ],
   "source": [
    "from scipy.stats import f_oneway\n",
    "f_oneway(benin['GHI'], sierra['GHI'], togo['GHI'])\n"
   ]
  },
  {
   "cell_type": "code",
   "execution_count": 22,
   "id": "2933c02e",
   "metadata": {},
   "outputs": [
    {
     "name": "stdout",
     "output_type": "stream",
     "text": [
      "GHI Ranges:\n",
      "Benin: -12.9 - 1413.0\n",
      "Sierra Leone: -19.5 - 1499.0\n",
      "Togo: -12.7 - 1424.0\n"
     ]
    }
   ],
   "source": [
    "print(\"GHI Ranges:\")\n",
    "print(\"Benin:\", benin['GHI'].min(), \"-\", benin['GHI'].max())\n",
    "print(\"Sierra Leone:\", sierra['GHI'].min(), \"-\", sierra['GHI'].max())\n",
    "print(\"Togo:\", togo['GHI'].min(), \"-\", togo['GHI'].max())"
   ]
  },
  {
   "cell_type": "code",
   "execution_count": 21,
   "id": "e996faec",
   "metadata": {},
   "outputs": [
    {
     "name": "stdout",
     "output_type": "stream",
     "text": [
      "Benin mean GHI: 240.559452435312\n",
      "Sierra Leone mean GHI: 201.95751522070017\n",
      "Togo mean GHI: 230.55503976407917\n",
      "\n",
      "Based on the GHI analysis, it is recommended to investing in Benin with the highest solar potential (240.56 kWh/m²/day).\n"
     ]
    }
   ],
   "source": [
    "benin_mean = benin['GHI'].mean()\n",
    "sierra_mean = sierra['GHI'].mean()\n",
    "togo_mean = togo['GHI'].mean()\n",
    "\n",
    "# Print mean values\n",
    "print(\"Benin mean GHI:\", benin_mean)\n",
    "print(\"Sierra Leone mean GHI:\", sierra_mean)\n",
    "print(\"Togo mean GHI:\", togo_mean)\n",
    "\n",
    "means = {\n",
    "    \"Benin\": benin_mean,\n",
    "    \"Sierra Leone\": sierra_mean,\n",
    "    \"Togo\": togo_mean\n",
    "}\n",
    "\n",
    "max_country = max(means, key=means.get)\n",
    "max_value = means[max_country]\n",
    "\n",
    "# Print investment recommendation\n",
    "print(f\"\\nBased on the GHI analysis, it is recommended to investing in {max_country} with the highest solar potential ({max_value:.2f} kWh/m²/day).\")"
   ]
  },
  {
   "cell_type": "code",
   "execution_count": 16,
   "id": "0555993b",
   "metadata": {},
   "outputs": [
    {
     "name": "stdout",
     "output_type": "stream",
     "text": [
      "Standard deviations:\n",
      "Benin: 331.13132727519655\n",
      "Sierra Leone: 298.4951504289856\n",
      "Togo: 322.53234661152936\n"
     ]
    }
   ],
   "source": [
    "print(\"Standard deviations:\")\n",
    "print(\"Benin:\", benin['GHI'].std())\n",
    "print(\"Sierra Leone:\", sierra['GHI'].std())\n",
    "print(\"Togo:\", togo['GHI'].std())"
   ]
  },
  {
   "cell_type": "code",
   "execution_count": 18,
   "id": "4481cb81",
   "metadata": {},
   "outputs": [
    {
     "data": {
      "image/png": "[encoded data removed]",
      "text/plain": [
       "<Figure size 640x480 with 1 Axes>"
      ]
     },
     "metadata": {},
     "output_type": "display_data"
    }
   ],
   "source": [
    "plt.bar(['Benin', 'Sierra Leone', 'Togo'], \n",
    "        [benin['GHI'].mean(), sierra['GHI'].mean(), togo['GHI'].mean()])\n",
    "plt.title(\"Average GHI by Country\")\n",
    "plt.ylabel(\"kWh/m²/day\")\n",
    "plt.show()"
   ]
  },
  {
   "cell_type": "code",
   "execution_count": null,
   "id": "abc490fd",
   "metadata": {},
   "outputs": [],
   "source": []
  }
 ],
 "metadata": {
  "kernelspec": {
   "display_name": "base",
   "language": "python",
   "name": "python3"
  },
  "language_info": {
   "codemirror_mode": {
    "name": "ipython",
    "version": 3
   },
   "file_extension": ".py",
   "mimetype": "text/x-python",
   "name": "python",
   "nbconvert_exporter": "python",
   "pygments_lexer": "ipython3",
   "version": "3.12.9"
  }
 },
 "nbformat": 4,
 "nbformat_minor": 5
}
